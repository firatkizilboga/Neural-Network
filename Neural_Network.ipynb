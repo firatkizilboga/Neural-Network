{
  "nbformat": 4,
  "nbformat_minor": 0,
  "metadata": {
    "colab": {
      "provenance": [],
      "collapsed_sections": []
    },
    "kernelspec": {
      "name": "python3",
      "display_name": "Python 3"
    },
    "language_info": {
      "name": "python"
    }
  },
  "cells": [
    {
      "cell_type": "code",
      "metadata": {
        "id": "-D8dchwGiumS"
      },
      "source": [
        "from sklearn.preprocessing import LabelEncoder\n",
        "import pandas as pd\n",
        "import numpy as np\n",
        "from sklearn.preprocessing import OneHotEncoder\n",
        "from sklearn.preprocessing import MinMaxScaler,StandardScaler\n",
        "import matplotlib.pyplot as plt\n",
        "import copy"
      ],
      "execution_count": null,
      "outputs": []
    },
    {
      "cell_type": "code",
      "metadata": {
        "id": "cyeyYKYZ05p4"
      },
      "source": [
        "def negativize(x):\n",
        "    if np.random.randint(1,101)>50:\n",
        "        return x\n",
        "    else:\n",
        "        return -x\n",
        "\n",
        "negativize=np.vectorize(negativize)\n",
        "def relu(x):\n",
        "    if x>0:\n",
        "        return x\n",
        "    else:\n",
        "        return 0\n",
        "relu=np.vectorize(relu)\n",
        "\n",
        "def sigmoid(x):\n",
        "  return (1 / (1 + np.exp(-x)))\n"
      ],
      "execution_count": null,
      "outputs": []
    },
    {
      "cell_type": "code",
      "metadata": {
        "id": "dBlhDHewhCcR"
      },
      "source": [
        "class NeuralNetwork:\n",
        "    def __init__(self,shape=list()) -> None:\n",
        "        self.weights=[]\n",
        "        for i in range(len(shape)-1):\n",
        "            self.weights.append(np.random.rand(shape[i],shape[i+1]))\n",
        "        self.losses=[]\n",
        "    def J(self,weights):\n",
        "        #error function\n",
        "        mse=0\n",
        "        for i in range(len(self.x)):\n",
        "            mse+=sum((self.forwardprop(weights,self.x[i])-self.y[i])**2)/len(self.x)/2\n",
        "        return mse\n",
        "\n",
        "    def forwardprop(self,weights,inp):\n",
        "        for i in range(len(weights)):\n",
        "            inp=relu(np.dot(inp,weights[i]))\n",
        "        return inp\n",
        "\n",
        "    def fit(self,x,y,epochs,lr):\n",
        "        #training/back-propagation\n",
        "        self.x=x\n",
        "        self.y=y\n",
        "        h=10**-6\n",
        "\n",
        "        #calculating gradients\n",
        "        for i in range(epochs):\n",
        "            gradients=copy.deepcopy(self.weights)\n",
        "            for l in range(len(self.weights)):\n",
        "                for w in range(len(self.weights[l])):\n",
        "                    weights=copy.deepcopy(self.weights)\n",
        "                    weights[l][w]+=h\n",
        "                    gradients[l][w]=lr*(self.J(weights)-self.J(self.weights))/h\n",
        "                for l in range(len(self.weights)):\n",
        "                    for w in range(len(self.weights[l])):\n",
        "                        self.weights[l][w]=self.weights[l][w]-lr*gradients[l][w]\n",
        "                      \n",
        "            error=self.J(self.weights)\n",
        "            self.losses.append(error)\n",
        "            print(f\"Epoch {i}: \",error)\n",
        "\n",
        "        plt.plot(self.losses)\n",
        "        plt.show\n",
        "\n",
        "    def predict(self,X):\n",
        "        y=[]\n",
        "        for i in X:\n",
        "            y.append(self.forwardprop(self.weights,i))\n",
        "        return np.array(y)\n",
        "        "
      ],
      "execution_count": null,
      "outputs": []
    },
    {
      "cell_type": "code",
      "metadata": {
        "id": "UvMOFNdJhbEA"
      },
      "source": [
        "mms=MinMaxScaler()\n",
        "x_test=pd.read_csv(\"/content/sample_data/california_housing_test.csv\")\n",
        "x_train=pd.read_csv(\"/content/sample_data/california_housing_train.csv\")\n",
        "y_train=x_train.pop(\"median_house_value\")\n",
        "y_test=x_test.pop(\"median_house_value\")\n",
        "x_train=mms.fit_transform(x_train)\n",
        "x_test=mms.transform(x_test)\n",
        "y_train, y_test = np.array(y_train).reshape(-1, 1), np.array(y_test).reshape(-1, 1)\n",
        "#y_train=mms.fit_transform(y_train)\n",
        "#y_test=mms.transform(y_test)\n",
        "y_train=y_train/1000\n",
        "y_test=y_test/1000\n",
        "x_train=np.array(x_train)\n",
        "x_test=np.array(x_test)\n",
        "y_train=np.array(y_train)\n",
        "y_test=np.array(y_test)"
      ],
      "execution_count": null,
      "outputs": []
    },
    {
      "cell_type": "code",
      "metadata": {
        "id": "0FWCuRo_iVk_"
      },
      "source": [
        "nn=NeuralNetwork([8,10,6,1])"
      ],
      "execution_count": null,
      "outputs": []
    },
    {
      "cell_type": "code",
      "metadata": {
        "colab": {
          "base_uri": "https://localhost:8080/",
          "height": 435
        },
        "id": "TewL7orgijNF",
        "outputId": "b7b5f1c9-a97d-4566-999f-4807ee7eeb6a"
      },
      "source": [
        "nn.fit(x_train,y_train,10,0.01)"
      ],
      "execution_count": null,
      "outputs": [
        {
          "output_type": "stream",
          "text": [
            "Epoch 0:  17022.916495442\n",
            "Epoch 1:  6697.096972963667\n",
            "Epoch 2:  6199.527021379109\n",
            "Epoch 3:  5930.8822339608705\n",
            "Epoch 4:  5777.941415188753\n",
            "Epoch 5:  5613.82499921123\n",
            "Epoch 6:  5476.589104814735\n",
            "Epoch 7:  5329.795454716528\n",
            "Epoch 8:  5191.651929015406\n",
            "Epoch 9:  5049.698299757028\n"
          ],
          "name": "stdout"
        },
        {
          "output_type": "display_data",
          "data": {
            "image/png": "[encoded data removed]",
            "text/plain": [
              "<Figure size 432x288 with 1 Axes>"
            ]
          },
          "metadata": {
            "tags": [],
            "needs_background": "light"
          }
        }
      ]
    }
  ]
}